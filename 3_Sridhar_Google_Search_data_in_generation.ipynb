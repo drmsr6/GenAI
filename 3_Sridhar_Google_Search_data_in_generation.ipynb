{
  "nbformat": 4,
  "nbformat_minor": 0,
  "metadata": {
    "colab": {
      "provenance": []
    },
    "kernelspec": {
      "name": "python3",
      "display_name": "Python 3"
    },
    "language_info": {
      "name": "python"
    }
  },
  "cells": [
    {
      "cell_type": "markdown",
      "source": [
        "In this notebook,we will use Google Search results with the Gemini API in a technique called grounding, where the model is connected to verifiable sources of information. Here Gemini API automates a lot of it for i=us to search. The model generates Google Search queries and invokes the searches automatically, retrieving relevant data from Google's index of the web and providing links to search suggestions that support the query, so any user can verify the sources.Here we want to retrieve earthquake history and is available in google web and search the reasons of earthquake."
      ],
      "metadata": {
        "id": "E46cU7DWtjKk"
      }
    },
    {
      "cell_type": "markdown",
      "source": [
        "We need to Use the API.Please note we need use google api key(Which is hidden)\n",
        "Start by installing and importing the Gemini API Python SDK"
      ],
      "metadata": {
        "id": "dr_y5kYCuEoH"
      }
    },
    {
      "cell_type": "code",
      "execution_count": null,
      "metadata": {
        "id": "8GwaBkjSIShV"
      },
      "outputs": [],
      "source": [
        "!pip install -qU 'google-genai==1.7.0'"
      ]
    },
    {
      "cell_type": "code",
      "source": [
        "from google import genai\n",
        "from google.genai import types\n",
        "\n",
        "from IPython.display import Markdown, HTML, display\n",
        "\n",
        "genai.__version__"
      ],
      "metadata": {
        "id": "P8R3ZJanOhKN"
      },
      "execution_count": null,
      "outputs": []
    },
    {
      "cell_type": "markdown",
      "source": [
        "To make the key available through colab -secrets, & add your key or enable it for this notebook."
      ],
      "metadata": {
        "id": "2-z4o5DfwL6E"
      }
    },
    {
      "cell_type": "code",
      "source": [
        "from google.colab import userdata\n",
        "\n",
        "GOOGLE_API_KEY = userdata.get('GOOGLE_API_KEY')\n",
        "client = genai.Client(api_key=GOOGLE_API_KEY)"
      ],
      "metadata": {
        "id": "OYNh8MDpP9ue"
      },
      "execution_count": null,
      "outputs": []
    },
    {
      "cell_type": "markdown",
      "source": [
        "The below command is sueful during an automated retry"
      ],
      "metadata": {
        "id": "aFaxBpKhwxQT"
      }
    },
    {
      "cell_type": "code",
      "source": [
        "from google.api_core import retry\n",
        "\n",
        "is_retriable = lambda e: (isinstance(e, genai.errors.APIError) and e.code in {429, 503})\n",
        "\n",
        "if not hasattr(genai.models.Models.generate_content, '__wrapped__'):\n",
        "  genai.models.Models.generate_content = retry.Retry(\n",
        "      predicate=is_retriable)(genai.models.Models.generate_content)"
      ],
      "metadata": {
        "id": "9uxreZQhQC49"
      },
      "execution_count": null,
      "outputs": []
    },
    {
      "cell_type": "markdown",
      "source": [
        "Search grounding is available in a limited set of models. Find a model that supports it on the models page.\n",
        "\n",
        "In this note, you'll use gemini-2.0-flash for search grounding\n",
        "\n",
        "Below shows how to make a request\n",
        "To enable search grounding, you specify it as a tool: google_search. Like other tools, this is supplied as a parameter in GenerateContentConfig, and can be passed to generate_content calls as well as chats.create (for all chat turns) or chat.send_message (for specific turns)."
      ],
      "metadata": {
        "id": "Ity9u6xX2FNI"
      }
    },
    {
      "cell_type": "code",
      "source": [
        "# Ask for information without search grounding.\n",
        "response = client.models.generate_content(\n",
        "    model='gemini-2.0-flash',\n",
        "    contents=\"Earthquake history of South East Asia from 2020-2025?\")\n",
        "\n",
        "Markdown(response.text)"
      ],
      "metadata": {
        "id": "NQNJLEiDQQqz"
      },
      "execution_count": null,
      "outputs": []
    },
    {
      "cell_type": "markdown",
      "source": [
        "The above is not giving info on specific earthquakes in Mynmar and thailand.This is the reason for enabling **grounding enabled**"
      ],
      "metadata": {
        "id": "EJbyjLSF2gla"
      }
    },
    {
      "cell_type": "code",
      "source": [
        "# And now re-run the same query with search grounding enabled.\n",
        "config_with_search = types.GenerateContentConfig(\n",
        "    tools=[types.Tool(google_search=types.GoogleSearch())],\n",
        ")\n",
        "\n",
        "def query_with_grounding():\n",
        "    response = client.models.generate_content(\n",
        "        model='gemini-2.0-flash',\n",
        "        contents=\"When did Mynmar and thailand Earthquake Occured?\",\n",
        "        config=config_with_search,\n",
        "    )\n",
        "    return response.candidates[0]\n",
        "\n",
        "\n",
        "rc = query_with_grounding()\n",
        "Markdown(rc.content.parts[0].text)"
      ],
      "metadata": {
        "id": "B_zTECyXQcK2"
      },
      "execution_count": null,
      "outputs": []
    },
    {
      "cell_type": "markdown",
      "source": [
        "**Below shows Response metadata**\n",
        "When search grounding is used, the model returns extra metadata that includes links to search suggestions, supporting documents and information on how the supporting documents were used.\n",
        "\n",
        "Each \"grounding chunk\" represents information retrieved from Google Search that was used in the grounded generation request. Following the URI will take you to the source."
      ],
      "metadata": {
        "id": "qCcMLygR3B3b"
      }
    },
    {
      "cell_type": "code",
      "source": [
        "while not rc.grounding_metadata.grounding_supports or not rc.grounding_metadata.grounding_chunks:\n",
        "    # If incomplete grounding data was returned, retry.\n",
        "    rc = query_with_grounding()\n",
        "\n",
        "chunks = rc.grounding_metadata.grounding_chunks\n",
        "for chunk in chunks:\n",
        "    print(f'{chunk.web.title}: {chunk.web.uri}')"
      ],
      "metadata": {
        "id": "VQdlIHisRCLd"
      },
      "execution_count": null,
      "outputs": []
    },
    {
      "cell_type": "markdown",
      "source": [
        "Here we used standalone styled HTML content block that we use to link back to relevant search suggestions related to the generation."
      ],
      "metadata": {
        "id": "OA5yazQB3QtL"
      }
    },
    {
      "cell_type": "code",
      "source": [
        "HTML(rc.grounding_metadata.search_entry_point.rendered_content)"
      ],
      "metadata": {
        "id": "1fNXJLkCRMiX"
      },
      "execution_count": null,
      "outputs": []
    },
    {
      "cell_type": "markdown",
      "source": [
        "The grounding_supports in the metadata provide a way for us to correlate the grounding chunks used to the generated output text."
      ],
      "metadata": {
        "id": "5AycpIvs3dzE"
      }
    },
    {
      "cell_type": "code",
      "source": [
        "from pprint import pprint\n",
        "\n",
        "supports = rc.grounding_metadata.grounding_supports\n",
        "for support in supports:\n",
        "    pprint(support.to_json_dict())"
      ],
      "metadata": {
        "id": "qlok7_zKRR9t"
      },
      "execution_count": null,
      "outputs": []
    },
    {
      "cell_type": "markdown",
      "source": [
        "These supports can be used to highlight text in the response, or build tables of footnotes."
      ],
      "metadata": {
        "id": "6Q3ZydID3qoz"
      }
    },
    {
      "cell_type": "code",
      "source": [
        "import io\n",
        "\n",
        "markdown_buffer = io.StringIO()\n",
        "\n",
        "# Print the text with footnote markers.\n",
        "markdown_buffer.write(\"Supported text:\\n\\n\")\n",
        "for support in supports:\n",
        "    markdown_buffer.write(\" * \")\n",
        "    markdown_buffer.write(\n",
        "        rc.content.parts[0].text[support.segment.start_index : support.segment.end_index]\n",
        "    )\n",
        "\n",
        "    for i in support.grounding_chunk_indices:\n",
        "        chunk = chunks[i].web\n",
        "        markdown_buffer.write(f\"<sup>[{i+1}]</sup>\")\n",
        "\n",
        "    markdown_buffer.write(\"\\n\\n\")\n",
        "\n",
        "\n",
        "# And print the footnotes.\n",
        "markdown_buffer.write(\"Citations:\\n\\n\")\n",
        "for i, chunk in enumerate(chunks, start=1):\n",
        "    markdown_buffer.write(f\"{i}. [{chunk.web.title}]({chunk.web.uri})\\n\")\n",
        "\n",
        "\n",
        "Markdown(markdown_buffer.getvalue())"
      ],
      "metadata": {
        "id": "dpzacJL8RXPv"
      },
      "execution_count": null,
      "outputs": []
    },
    {
      "cell_type": "markdown",
      "source": [
        "**Search with tools**\n",
        "In this below example, we are using the Google Search grounding tool and the code generation tool across two steps. In the first step, the model will use Google Search to find the requested information and then in the follow-up question, it generates code to plot the results.\n",
        "\n",
        "This usage includes textual, visual and code parts, so first define a function to help visualise these."
      ],
      "metadata": {
        "id": "Zp7cyexq31Wa"
      }
    },
    {
      "cell_type": "code",
      "source": [
        "from IPython.display import display, Image, Markdown\n",
        "\n",
        "def show_response(response):\n",
        "    for p in response.candidates[0].content.parts:\n",
        "        if p.text:\n",
        "            display(Markdown(p.text))\n",
        "        elif p.inline_data:\n",
        "            display(Image(p.inline_data.data))\n",
        "        else:\n",
        "            print(p.to_json_dict())\n",
        "\n",
        "        display(Markdown('----'))"
      ],
      "metadata": {
        "id": "AG8ATf-7Rdwe"
      },
      "execution_count": null,
      "outputs": []
    },
    {
      "cell_type": "markdown",
      "source": [
        "Now we intiated a  chat asking for some information. Here we provide the Google Search tool so that the model can look up data from Google's Search index."
      ],
      "metadata": {
        "id": "4DM7b7iF4IOI"
      }
    },
    {
      "cell_type": "code",
      "source": [
        "config_with_search = types.GenerateContentConfig(\n",
        "    tools=[types.Tool(google_search=types.GoogleSearch())],\n",
        "    temperature=0.0,\n",
        ")\n",
        "\n",
        "chat = client.chats.create(model='gemini-2.0-flash')\n",
        "\n",
        "response = chat.send_message(\n",
        "    message=\"What was damage due to bankong earthquake in March 28th 2025?\",\n",
        "    config=config_with_search,\n",
        ")\n",
        "\n",
        "show_response(response)"
      ],
      "metadata": {
        "id": "H5uSmAiDRi0Y"
      },
      "execution_count": null,
      "outputs": []
    },
    {
      "cell_type": "markdown",
      "source": [
        "Continuing the chat, now ask the model to convert the data into a chart. The code_execution tool is able to generate code to draw charts, execute that code and return the image. You can see the executed code in the executable_code part of the response.\n",
        "\n",
        "Combining results from Google Search with tools like live plotting can enable very powerful use cases that require very little code to run."
      ],
      "metadata": {
        "id": "fFZrq-g54Ve-"
      }
    },
    {
      "cell_type": "code",
      "source": [
        "config_with_code = types.GenerateContentConfig(\n",
        "    tools=[types.Tool(code_execution=types.ToolCodeExecution())],\n",
        "    temperature=0.0,\n",
        ")\n",
        "\n",
        "response = chat.send_message(\n",
        "    message=\"Now plot this as a seaborn chart. Break out the earthquakes history in south east asia from 202-2025 too.\",\n",
        "    config=config_with_code,\n",
        ")\n",
        "\n",
        "show_response(response)"
      ],
      "metadata": {
        "id": "57rbsAphR0gh"
      },
      "execution_count": null,
      "outputs": []
    },
    {
      "cell_type": "markdown",
      "source": [
        "Now a Seaborn chart visualizing the earthquake history and occurance in south east asia in tabular form"
      ],
      "metadata": {
        "id": "P5cOMGB64j36"
      }
    },
    {
      "cell_type": "code",
      "source": [
        "import requests\n",
        "import pandas as pd\n",
        "\n",
        "# Define the bounding box and query parameters\n",
        "url = \"https://earthquake.usgs.gov/fdsnws/event/1/query\"\n",
        "params = {\n",
        "    \"format\": \"csv\",\n",
        "    \"starttime\": \"2020-01-01\",\n",
        "    \"endtime\": \"2025-04-12\",\n",
        "    \"minlatitude\": -11,\n",
        "    \"maxlatitude\": 25,\n",
        "    \"minlongitude\": 92,\n",
        "    \"maxlongitude\": 142,\n",
        "    \"minmagnitude\": 4.5,\n",
        "    \"orderby\": \"time\"\n",
        "}\n",
        "\n",
        "# Fetch the data\n",
        "response = requests.get(url, params=params)\n",
        "\n",
        "# Save and read into pandas\n",
        "with open(\"southeast_asia_earthquakes_2020_2025.csv\", \"w\") as f:\n",
        "    f.write(response.text)\n",
        "\n",
        "df = pd.read_csv(\"southeast_asia_earthquakes_2020_2025.csv\")\n",
        "df.head()"
      ],
      "metadata": {
        "id": "Xlcu1Nd1XGxK"
      },
      "execution_count": null,
      "outputs": []
    },
    {
      "cell_type": "markdown",
      "source": [
        "Below libraries are used to plot a chart from 20-25 and shows frequency"
      ],
      "metadata": {
        "id": "J-wI25Yq9kIz"
      }
    },
    {
      "cell_type": "code",
      "source": [
        "import seaborn as sns\n",
        "import matplotlib.pyplot as plt\n",
        "\n",
        "# Optional: for nicer plots\n",
        "sns.set(style=\"darkgrid\")"
      ],
      "metadata": {
        "id": "cTyYfasaXXDO"
      },
      "execution_count": null,
      "outputs": []
    },
    {
      "cell_type": "code",
      "source": [
        "plt.figure(figsize=(10, 6))\n",
        "sns.histplot(data=df, x=\"mag\", bins=30, kde=True)\n",
        "plt.title(\"Distribution of Earthquake Magnitudes in Southeast Asia (2020–2025)\")\n",
        "plt.xlabel(\"Magnitude\")\n",
        "plt.ylabel(\"Frequency\")\n",
        "plt.show()"
      ],
      "metadata": {
        "id": "DYMDGlwFXx_0"
      },
      "execution_count": null,
      "outputs": []
    },
    {
      "cell_type": "markdown",
      "source": [
        "The below plot shows the magnitude of earthquakes occured over a period from 2020-2025"
      ],
      "metadata": {
        "id": "B4efRlOb9yoy"
      }
    },
    {
      "cell_type": "code",
      "source": [
        "df[\"time\"] = pd.to_datetime(df[\"time\"])  # make sure 'time' is a datetime object\n",
        "\n",
        "plt.figure(figsize=(14, 6))\n",
        "sns.scatterplot(data=df, x=\"time\", y=\"mag\", hue=\"mag\", palette=\"viridis\", size=\"mag\", sizes=(20, 200))\n",
        "plt.title(\"Earthquake Magnitudes Over Time in Southeast Asia (2020–2025)\")\n",
        "plt.xlabel(\"Date\")\n",
        "plt.ylabel(\"Magnitude\")\n",
        "plt.legend(title=\"Magnitude\")\n",
        "plt.show()"
      ],
      "metadata": {
        "id": "FKItbWAbX1H_"
      },
      "execution_count": null,
      "outputs": []
    },
    {
      "cell_type": "markdown",
      "source": [
        "we used kdeplot to identify heat map generated in southeast asia and cleary seen red marked shows Mynmar/Thailand."
      ],
      "metadata": {
        "id": "CVZgVxo2-AWu"
      }
    },
    {
      "cell_type": "code",
      "source": [
        "plt.figure(figsize=(10, 8))\n",
        "sns.kdeplot(\n",
        "    data=df, x=\"longitude\", y=\"latitude\",\n",
        "    cmap=\"Reds\", fill=True, thresh=0.05\n",
        ")\n",
        "plt.title(\"Heatmap of Earthquake Locations in Southeast Asia\")\n",
        "plt.xlabel(\"Longitude\")\n",
        "plt.ylabel(\"Latitude\")\n",
        "plt.show()"
      ],
      "metadata": {
        "id": "UeZM9RGfY0LH"
      },
      "execution_count": null,
      "outputs": []
    },
    {
      "cell_type": "markdown",
      "source": [
        "The below code visualized a epicenter depth and magnitude over a period of time"
      ],
      "metadata": {
        "id": "1DJQ8z7j-OXS"
      }
    },
    {
      "cell_type": "code",
      "source": [
        "plt.figure(figsize=(10, 6))\n",
        "sns.scatterplot(data=df, x=\"depth\", y=\"mag\", hue=\"mag\", palette=\"coolwarm\", alpha=0.7)\n",
        "plt.title(\"Earthquake Depth vs. Magnitude (2020–2025)\")\n",
        "plt.xlabel(\"Depth (km)\")\n",
        "plt.ylabel(\"Magnitude\")\n",
        "plt.show()"
      ],
      "metadata": {
        "id": "6TU57Ji_Y6tu"
      },
      "execution_count": null,
      "outputs": []
    },
    {
      "cell_type": "markdown",
      "source": [
        "The grounding techinque is used to get information on occurance of earthquakes in southeast asia and weburl and search tool helped to identified Mynmar and thailand Earthquaked.The above is used for Day 4 kaggle contest."
      ],
      "metadata": {
        "id": "VliSnIBD-cK9"
      }
    }
  ]
}