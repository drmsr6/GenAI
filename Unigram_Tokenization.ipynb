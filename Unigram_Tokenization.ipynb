{
  "nbformat": 4,
  "nbformat_minor": 0,
  "metadata": {
    "colab": {
      "provenance": []
    },
    "kernelspec": {
      "name": "python3",
      "display_name": "Python 3"
    },
    "language_info": {
      "name": "python"
    }
  },
  "cells": [
    {
      "cell_type": "code",
      "execution_count": null,
      "metadata": {
        "id": "WQyEnYXV8Hqd"
      },
      "outputs": [],
      "source": []
    },
    {
      "cell_type": "markdown",
      "source": [
        "Unigram tokenization means splitting text into individual words (tokens), where each token is a single word.The below example shows how a sentence is split into different tokens."
      ],
      "metadata": {
        "id": "57vD0epi8ObW"
      }
    },
    {
      "cell_type": "code",
      "source": [
        "import re\n",
        "\n",
        "# Sample text\n",
        "text = \"Credit card fradulent transactions causing financial losses, reputational damage, and operational challenges to banking sector throughtout the world. .\"\n"
      ],
      "metadata": {
        "id": "b0J9vLB78bRy"
      },
      "execution_count": 2,
      "outputs": []
    },
    {
      "cell_type": "code",
      "source": [
        "# Remove punctuation using regex\n",
        "clean_text = re.sub(r'[^\\w\\s]', '', text)"
      ],
      "metadata": {
        "id": "U5iM14qQ9C9g"
      },
      "execution_count": 3,
      "outputs": []
    },
    {
      "cell_type": "code",
      "source": [
        "# Tokenize\n",
        "tokens = clean_text.split()"
      ],
      "metadata": {
        "id": "CTYwgH989FGA"
      },
      "execution_count": 4,
      "outputs": []
    },
    {
      "cell_type": "code",
      "source": [
        "# Print tokens\n",
        "print(\"Cleaned Unigram Tokens:\")\n",
        "print(tokens)"
      ],
      "metadata": {
        "colab": {
          "base_uri": "https://localhost:8080/"
        },
        "id": "Bvgnn8Yb9IgI",
        "outputId": "ded75392-e813-439d-9e44-3ff658c93493"
      },
      "execution_count": 5,
      "outputs": [
        {
          "output_type": "stream",
          "name": "stdout",
          "text": [
            "Cleaned Unigram Tokens:\n",
            "['Credit', 'card', 'fradulent', 'transactions', 'causing', 'financial', 'losses', 'reputational', 'damage', 'and', 'operational', 'challenges', 'to', 'banking', 'sector', 'throughtout', 'the', 'world']\n"
          ]
        }
      ]
    },
    {
      "cell_type": "code",
      "source": [
        "# Count number of tokens\n",
        "print(\"Number of tokens:\", len(tokens))"
      ],
      "metadata": {
        "colab": {
          "base_uri": "https://localhost:8080/"
        },
        "id": "CvJMjoll9VIA",
        "outputId": "d57073b8-33b3-4064-fb3d-7d9c0a47741e"
      },
      "execution_count": 6,
      "outputs": [
        {
          "output_type": "stream",
          "name": "stdout",
          "text": [
            "Number of tokens: 18\n"
          ]
        }
      ]
    }
  ]
}