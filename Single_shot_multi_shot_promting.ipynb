{
  "nbformat": 4,
  "nbformat_minor": 0,
  "metadata": {
    "colab": {
      "provenance": []
    },
    "kernelspec": {
      "name": "python3",
      "display_name": "Python 3"
    },
    "language_info": {
      "name": "python"
    }
  },
  "cells": [
    {
      "cell_type": "code",
      "execution_count": 2,
      "metadata": {
        "id": "4WxT3wDbFDrt"
      },
      "outputs": [],
      "source": [
        "from google.colab import userdata\n",
        "import openai\n",
        "\n",
        "openai.api_key = userdata.get('OPENAI_API_KEY')"
      ]
    },
    {
      "cell_type": "code",
      "source": [
        "response = openai.ChatCompletion.create(\n",
        "    model=\"gpt-4o-mini\",\n",
        "    messages=[\n",
        "        {\"role\": \"system\", \"content\": \"You are a helpful assistant that answers questions in short sentences.\"},\n",
        "        {\"role\": \"user\", \"content\": \"Q: What is the capital of France?\\nA: Paris.\"},\n",
        "        {\"role\": \"user\", \"content\": \"Q: What is the capital of Germany?\\nA:\"}\n",
        "    ]\n",
        ")\n",
        "\n",
        "print(response['choices'][0]['message']['content'])"
      ],
      "metadata": {
        "colab": {
          "base_uri": "https://localhost:8080/"
        },
        "id": "YYrPNC_qZtaq",
        "outputId": "132a8153-c5c8-4f9b-b3f2-c13f26c99bfc"
      },
      "execution_count": 3,
      "outputs": [
        {
          "output_type": "stream",
          "name": "stdout",
          "text": [
            "Berlin.\n"
          ]
        }
      ]
    },
    {
      "cell_type": "code",
      "source": [
        "response = openai.ChatCompletion.create(\n",
        "    model=\"gpt-4o-mini\",\n",
        "    messages=[\n",
        "        {\"role\": \"system\", \"content\": \"You are an assistant that answers trivia questions with short, direct answers.\"},\n",
        "\n",
        "        # Example 1\n",
        "        {\"role\": \"user\", \"content\": \"Q: What is the capital of France?\\nA: Paris.\"},\n",
        "\n",
        "        # Example 2\n",
        "        {\"role\": \"user\", \"content\": \"Q: What is the capital of Japan?\\nA: Tokyo.\"},\n",
        "\n",
        "        # Example 3\n",
        "        {\"role\": \"user\", \"content\": \"Q: What is the capital of Canada?\\nA: Ottawa.\"},\n",
        "\n",
        "        # Now the real question\n",
        "        {\"role\": \"user\", \"content\": \"Q: What is the capital of Italy?\\nA:\"}\n",
        "    ]\n",
        ")\n",
        "\n",
        "print(response['choices'][0]['message']['content'])"
      ],
      "metadata": {
        "colab": {
          "base_uri": "https://localhost:8080/"
        },
        "id": "zMppMOE0aJB3",
        "outputId": "9345ee18-18ad-491d-dbd1-657667b027ce"
      },
      "execution_count": 4,
      "outputs": [
        {
          "output_type": "stream",
          "name": "stdout",
          "text": [
            "Rome.\n"
          ]
        }
      ]
    },
    {
      "cell_type": "code",
      "source": [
        "response = openai.ChatCompletion.create(\n",
        "    model=\"gpt-4o-mini\",\n",
        "    messages=[\n",
        "        {\"role\": \"system\", \"content\": \"Tu es un assistant qui répond aux questions de culture générale de façon courte et précise.\"},\n",
        "\n",
        "        # Exemple 1\n",
        "        {\"role\": \"user\", \"content\": \"Q : Quelle est la capitale de la France ?\\nR : Paris.\"},\n",
        "\n",
        "        # Exemple 2\n",
        "        {\"role\": \"user\", \"content\": \"Q : Quelle est la capitale du Japon ?\\nR : Tokyo.\"},\n",
        "\n",
        "        # Exemple 3\n",
        "        {\"role\": \"user\", \"content\": \"Q : Quelle est la capitale du Canada ?\\nR : Ottawa.\"},\n",
        "\n",
        "        # Maintenant, la vraie question\n",
        "        {\"role\": \"user\", \"content\": \"Q : Quelle est la capitale de l’Italie ?\\nR :\"}\n",
        "    ]\n",
        ")\n",
        "\n",
        "print(response['choices'][0]['message']['content'])"
      ],
      "metadata": {
        "colab": {
          "base_uri": "https://localhost:8080/"
        },
        "id": "z34SRQBZbJOx",
        "outputId": "5279b64c-cc0b-4d9b-a63b-a137837573b9"
      },
      "execution_count": 5,
      "outputs": [
        {
          "output_type": "stream",
          "name": "stdout",
          "text": [
            "Rome.\n"
          ]
        }
      ]
    }
  ]
}